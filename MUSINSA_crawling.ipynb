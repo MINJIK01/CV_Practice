{
 "cells": [
  {
   "cell_type": "markdown",
   "id": "f7bce422",
   "metadata": {},
   "source": [
    "# 1. 라이브러리 불러오기"
   ]
  },
  {
   "cell_type": "code",
   "execution_count": 1,
   "id": "7635cf10",
   "metadata": {},
   "outputs": [],
   "source": [
    "import os, time\n",
    "from bs4 import BeautifulSoup\n",
    "from selenium import webdriver\n",
    "from selenium.webdriver.common.by import By\n",
    "import urllib.request\n",
    "from selenium.webdriver.common.keys import Keys"
   ]
  },
  {
   "cell_type": "markdown",
   "id": "50cd41a6",
   "metadata": {},
   "source": [
    "# 2. 크롤링 준비"
   ]
  },
  {
   "cell_type": "markdown",
   "id": "643771d8",
   "metadata": {},
   "source": [
    "## 상품별 Page URL 반환 함수"
   ]
  },
  {
   "cell_type": "code",
   "execution_count": 2,
   "id": "daab84b5",
   "metadata": {},
   "outputs": [],
   "source": [
    "# 함수 선언\n",
    "def PageUrl(itemName):\n",
    "    item_dic = {\"상의\":1, \"아우터\":2, \"바지\":3, \"신발\":7} # 입력값으로 index를 반환시킬 dictionary\n",
    "    url = \"https://www.musinsa.com/categories/item/00\" + str(item_dic[itemName]) +\"\"\n",
    "    return url"
   ]
  },
  {
   "cell_type": "markdown",
   "id": "fc17bb93",
   "metadata": {},
   "source": [
    "## 크롬 드라이브 경로 설정 및 불러오기"
   ]
  },
  {
   "cell_type": "code",
   "execution_count": 3,
   "id": "bcf5f983",
   "metadata": {},
   "outputs": [],
   "source": [
    "# 주소 변경\n",
    "os.chdir(\"C:/Users/user/Desktop/discover\") # 이 파일의 주소로 설정할 것"
   ]
  },
  {
   "cell_type": "code",
   "execution_count": 4,
   "id": "a04f200e",
   "metadata": {
    "scrolled": true
   },
   "outputs": [
    {
     "name": "stderr",
     "output_type": "stream",
     "text": [
      "C:\\Users\\Public\\Documents\\ESTsoft\\CreatorTemp\\ipykernel_12060\\3221880548.py:4: DeprecationWarning: executable_path has been deprecated, please pass in a Service object\n",
      "  driver = webdriver.Chrome(driver_path, options=chrome_options)\n"
     ]
    }
   ],
   "source": [
    "driver_path = \"chromedriver.exe\"\n",
    "chrome_options = webdriver.ChromeOptions()\n",
    "chrome_options.add_argument('--start-maximized') #브라우저 최대화된 상태로 실행\n",
    "driver = webdriver.Chrome(driver_path, options=chrome_options)"
   ]
  },
  {
   "cell_type": "markdown",
   "id": "f9f8b010",
   "metadata": {},
   "source": [
    "# ===================== 수정할 부분 ============================"
   ]
  },
  {
   "cell_type": "markdown",
   "id": "c3d954b4",
   "metadata": {},
   "source": [
    "## 링크로 이동. <span style=\"color: red;background-color: lightyellow;font-weight: bold\">  !!부위 이름 바꾸는 것 주의!!</span>"
   ]
  },
  {
   "cell_type": "code",
   "execution_count": 5,
   "id": "d95355b6",
   "metadata": {},
   "outputs": [],
   "source": [
    "where = \"상의\" # 자신이 맡은 파트 기입. 문자열 형태로 넣을 것 [상의, 아우터, 바지, 신발]\n",
    "driver.get(PageUrl(where))\n",
    "time.sleep(2)"
   ]
  },
  {
   "cell_type": "markdown",
   "id": "00af87d1",
   "metadata": {},
   "source": [
    "# ==========================================================="
   ]
  },
  {
   "cell_type": "markdown",
   "id": "04cce2bf",
   "metadata": {},
   "source": [
    "## 컬러 인덱스 제작"
   ]
  },
  {
   "cell_type": "markdown",
   "id": "6fd6c36c",
   "metadata": {},
   "source": [
    "#### 옷 부위 별 색상 배열 순서가 달라 각 부위별로 색상 인덱스의 순서를 따로 생성해 저장"
   ]
  },
  {
   "cell_type": "code",
   "execution_count": 6,
   "id": "fc40cc60",
   "metadata": {},
   "outputs": [],
   "source": [
    "html = driver.page_source # html코드 불러오기\n",
    "bs = BeautifulSoup(html,\"html.parser\")\n",
    "\n",
    "# 색상명이 저장돼어있는 class 추출\n",
    "color = bs.find_all(\"div\", class_ = \"tooltip_text\")\n",
    "\n",
    "# 색상 리스트 생성\n",
    "color_list = []\n",
    "for color_text in range(len(color)):\n",
    "    color_list.append(color[color_text].text.strip(\"\\n\"))"
   ]
  },
  {
   "cell_type": "markdown",
   "id": "b6b226e9",
   "metadata": {},
   "source": [
    "# 3. 크롤링 시작"
   ]
  },
  {
   "cell_type": "code",
   "execution_count": 7,
   "id": "6da57b1b",
   "metadata": {},
   "outputs": [
    {
     "ename": "KeyboardInterrupt",
     "evalue": "",
     "output_type": "error",
     "traceback": [
      "\u001b[1;31m---------------------------------------------------------------------------\u001b[0m",
      "\u001b[1;31mKeyboardInterrupt\u001b[0m                         Traceback (most recent call last)",
      "\u001b[1;32mC:\\Users\\Public\\Documents\\ESTsoft\\CreatorTemp\\ipykernel_12060\\2220348555.py\u001b[0m in \u001b[0;36m<module>\u001b[1;34m\u001b[0m\n\u001b[0;32m     21\u001b[0m     \u001b[1;32mfor\u001b[0m \u001b[0mc\u001b[0m \u001b[1;32min\u001b[0m \u001b[0mrange\u001b[0m\u001b[1;33m(\u001b[0m\u001b[1;36m0\u001b[0m\u001b[1;33m,\u001b[0m\u001b[1;36m10\u001b[0m\u001b[1;33m)\u001b[0m\u001b[1;33m:\u001b[0m\u001b[1;33m\u001b[0m\u001b[1;33m\u001b[0m\u001b[0m\n\u001b[0;32m     22\u001b[0m         \u001b[0mdriver\u001b[0m\u001b[1;33m.\u001b[0m\u001b[0mfind_element\u001b[0m\u001b[1;33m(\u001b[0m\u001b[0mBy\u001b[0m\u001b[1;33m.\u001b[0m\u001b[0mTAG_NAME\u001b[0m\u001b[1;33m,\u001b[0m \u001b[1;34m'body'\u001b[0m\u001b[1;33m)\u001b[0m\u001b[1;33m.\u001b[0m\u001b[0msend_keys\u001b[0m\u001b[1;33m(\u001b[0m\u001b[0mKeys\u001b[0m\u001b[1;33m.\u001b[0m\u001b[0mPAGE_DOWN\u001b[0m\u001b[1;33m)\u001b[0m\u001b[1;33m\u001b[0m\u001b[1;33m\u001b[0m\u001b[0m\n\u001b[1;32m---> 23\u001b[1;33m         \u001b[0mtime\u001b[0m\u001b[1;33m.\u001b[0m\u001b[0msleep\u001b[0m\u001b[1;33m(\u001b[0m\u001b[1;36m2\u001b[0m\u001b[1;33m)\u001b[0m\u001b[1;33m\u001b[0m\u001b[1;33m\u001b[0m\u001b[0m\n\u001b[0m\u001b[0;32m     24\u001b[0m \u001b[1;33m\u001b[0m\u001b[0m\n\u001b[0;32m     25\u001b[0m     \u001b[0mimages\u001b[0m \u001b[1;33m=\u001b[0m \u001b[0mdriver\u001b[0m\u001b[1;33m.\u001b[0m\u001b[0mfind_elements\u001b[0m\u001b[1;33m(\u001b[0m\u001b[0mBy\u001b[0m\u001b[1;33m.\u001b[0m\u001b[0mCSS_SELECTOR\u001b[0m\u001b[1;33m,\u001b[0m \u001b[1;34m\".li_inner > div > a > img\"\u001b[0m\u001b[1;33m)\u001b[0m \u001b[1;31m# 이미지 태그 추출\u001b[0m\u001b[1;33m\u001b[0m\u001b[1;33m\u001b[0m\u001b[0m\n",
      "\u001b[1;31mKeyboardInterrupt\u001b[0m: "
     ]
    }
   ],
   "source": [
    "# 신상품으로 정렬\n",
    "driver.find_element(\"xpath\", '//*[@id=\"goods_list\"]/div[2]/div[1]/a[2]/span').click()\n",
    "time.sleep(1)\n",
    "\n",
    "# 각 색상별 의류 이미지 저장\n",
    "for color_index in range(1,len(color_list)+1):\n",
    "    color_name = color_list[color_index - 1] # 저장할 의류의 색상 저장\n",
    "\n",
    "    # 계속 다음 색상을 누르면, 옵션이 추가가 되고 기존의 색상이 없어지지 않음. --> 처음이 아닌 경우 두 번 클릭\n",
    "    if color_index > 1:\n",
    "        driver.find_element(\"xpath\", '//*[@id=\"toolTip\"]/li[' + str(color_index - 1)+ ']').click()\n",
    "        time.sleep(1)\n",
    "        driver.find_element(\"xpath\", '//*[@id=\"toolTip\"]/li[' + str(color_index)+ ']').click()\n",
    "    else:\n",
    "        driver.find_element(\"xpath\", '//*[@id=\"toolTip\"]/li[' + str(color_index)+ ']').click()\n",
    "    time.sleep(1)\n",
    "    \n",
    "    \n",
    "    # 페이지 연속 다운\n",
    "    ## 스크롤을 내리지 않으면, 의류 이미지가 아닌, 기본 이미지가 저장됨.\n",
    "    for c in range(0,10):\n",
    "        driver.find_element(By.TAG_NAME, 'body').send_keys(Keys.PAGE_DOWN)\n",
    "        time.sleep(2)\n",
    "        \n",
    "    images = driver.find_elements(By.CSS_SELECTOR, \".li_inner > div > a > img\") # 이미지 태그 추출\n",
    "    \n",
    "    img_url = [] # 이미지 URL이 저장될 데이터\n",
    "\n",
    "    # 이미지 URL 저장\n",
    "    for image in images :\n",
    "        url = image.get_attribute('src')\n",
    "        img_url.append(url)\n",
    "        \n",
    "    img_folder = './'+where+'/'+ color_name # 폴더 이름 설정\n",
    "    \n",
    "    if not os.path.isdir(img_folder) : # 폴더가 없으면 새로 생성하는 조건문 \n",
    "        os.makedirs(img_folder) #makedirs는 부모 폴더가 없더라도 동시에 생성해줌\n",
    "\n",
    "    # 이미지 저장\n",
    "    for index, link in enumerate(img_url) :\n",
    "        urllib.request.urlretrieve(link, f'' + img_folder+'/'+str(index)+'.jpg')\n",
    "     \n",
    "    # 확인용 프린트 문\n",
    "    count_garbage = 0 # 수집된 기본 이미지 수\n",
    "    logo_image = 0 # 수집된 의류 이외 이미지 수\n",
    "    for i in range(len(img_url)):\n",
    "        if img_url[i] == 'https://image.msscdn.net/images/no_image_125.png':\n",
    "            count_garbage += 1\n",
    "        elif \"mfile_s01\" in img_url[i]:\n",
    "            logo_image += 1\n",
    "\n",
    "\n",
    "\n",
    "    print(\"전체 수집된 이미지 수: \" + str(len(img_url)) + \" // 수집된 기본 이미지 수: \" + str(count_garbage) + \" //수집된 의류 이외 이미지 수: \" + str(logo_image) + \"\\n유효 이미지 수: \" + str(len(img_url) - count_garbage - logo_image))\n",
    "    "
   ]
  },
  {
   "cell_type": "markdown",
   "id": "822c6baf",
   "metadata": {},
   "source": [
    "# 4. 종료"
   ]
  },
  {
   "cell_type": "code",
   "execution_count": null,
   "id": "2c5c73fe",
   "metadata": {
    "scrolled": true
   },
   "outputs": [],
   "source": [
    "driver.quit()"
   ]
  }
 ],
 "metadata": {
  "kernelspec": {
   "display_name": "Python 3 (ipykernel)",
   "language": "python",
   "name": "python3"
  },
  "language_info": {
   "codemirror_mode": {
    "name": "ipython",
    "version": 3
   },
   "file_extension": ".py",
   "mimetype": "text/x-python",
   "name": "python",
   "nbconvert_exporter": "python",
   "pygments_lexer": "ipython3",
   "version": "3.9.13"
  }
 },
 "nbformat": 4,
 "nbformat_minor": 5
}
