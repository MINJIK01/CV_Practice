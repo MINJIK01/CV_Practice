{
 "cells": [
  {
   "cell_type": "markdown",
   "id": "b1e1f497",
   "metadata": {},
   "source": [
    "## 선형회귀"
   ]
  },
  {
   "cell_type": "code",
   "execution_count": 1,
   "id": "fa79171e",
   "metadata": {},
   "outputs": [],
   "source": [
    "import tensorflow as tf"
   ]
  },
  {
   "cell_type": "code",
   "execution_count": 2,
   "id": "2b6a8165",
   "metadata": {},
   "outputs": [],
   "source": [
    "# 선형회귀 모델(wx + b)을 위한 tf.Variable을 선언. linear regression은 차원이 1차원이므로 shape을 1로 지정\n",
    "W= tf.Variable(tf.random.normal(shape=[1]))\n",
    "b = tf.Variable(tf.random.normal(shape=[1]))"
   ]
  },
  {
   "cell_type": "code",
   "execution_count": 3,
   "id": "d612aa38",
   "metadata": {},
   "outputs": [],
   "source": [
    "# 모델 함수 정의\n",
    "def linear_model(x):\n",
    "    return W*x + b"
   ]
  },
  {
   "cell_type": "code",
   "execution_count": 4,
   "id": "393ef63b",
   "metadata": {},
   "outputs": [],
   "source": [
    "#손실함수 정의, MSE 사용\n",
    "def mse_loss(y_pred, y):\n",
    "    return tf.reduce_mean(tf.square(y_pred - y))"
   ]
  },
  {
   "cell_type": "code",
   "execution_count": 5,
   "id": "8a037033",
   "metadata": {},
   "outputs": [],
   "source": [
    "# 최적화를 위한 gradient decent optimizer 정의\n",
    "optimizer = tf.optimizers.SGD(0.01) #stochastic gradient decent 사용한 듯, learning rate 0.01로 설정\n",
    "# https://www.tensorflow.org/api_docs/python/tf/keras/optimizers"
   ]
  },
  {
   "cell_type": "code",
   "execution_count": 6,
   "id": "784d5781",
   "metadata": {},
   "outputs": [],
   "source": [
    "# 최적화 함수\n",
    "def train_step(x,y):\n",
    "    with tf.GradientTape() as tape:\n",
    "        y_pred = linear_model(x)\n",
    "        loss = mse_loss(y_pred, y)\n",
    "    gradients = tape.gradient(loss, [W,b])\n",
    "    optimizer.apply_gradients(zip(gradients, [W,b])) # zip은 리스트의 개별 요소들을 인덱스 순서에 맞게 쌍으로 묶어준다."
   ]
  },
  {
   "cell_type": "markdown",
   "id": "c94cbb20",
   "metadata": {},
   "source": [
    "### training"
   ]
  },
  {
   "cell_type": "code",
   "execution_count": 7,
   "id": "45002257",
   "metadata": {},
   "outputs": [],
   "source": [
    "# 트레이닝을 위한 입력값과 출력값을 준비\n",
    "x_train = [1,2,3,4]\n",
    "y_train = [2,4,6,8]"
   ]
  },
  {
   "cell_type": "code",
   "execution_count": 8,
   "id": "165a3244",
   "metadata": {},
   "outputs": [],
   "source": [
    "# 경사 하강법 1000번\n",
    "for i in range(1000):\n",
    "    train_step(x_train, y_train)"
   ]
  },
  {
   "cell_type": "markdown",
   "id": "e3a6f815",
   "metadata": {},
   "source": [
    "### test"
   ]
  },
  {
   "cell_type": "code",
   "execution_count": 9,
   "id": "728bb2a2",
   "metadata": {},
   "outputs": [],
   "source": [
    "x_test = [3.5,5,5.5,6]"
   ]
  },
  {
   "cell_type": "code",
   "execution_count": 10,
   "id": "ccbd3701",
   "metadata": {
    "scrolled": true
   },
   "outputs": [
    {
     "name": "stdout",
     "output_type": "stream",
     "text": [
      "[ 7.0031505 10.011592  11.014405  12.017219 ]\n"
     ]
    }
   ],
   "source": [
    "print(linear_model(x_test).numpy())"
   ]
  },
  {
   "cell_type": "markdown",
   "id": "8faabb69",
   "metadata": {},
   "source": [
    "## Softmax Algorithm"
   ]
  },
  {
   "cell_type": "code",
   "execution_count": 11,
   "id": "4da87658",
   "metadata": {},
   "outputs": [],
   "source": [
    "import tensorflow as tf"
   ]
  },
  {
   "cell_type": "code",
   "execution_count": 12,
   "id": "5ab41bf1",
   "metadata": {},
   "outputs": [],
   "source": [
    "#MNIST 데이터 다운로드, numpy array 형태로 넘어옴.\n",
    "(x_train, y_train), (x_test, y_test) = tf.keras.datasets.mnist.load_data()"
   ]
  },
  {
   "cell_type": "code",
   "execution_count": 13,
   "id": "4aede496",
   "metadata": {},
   "outputs": [],
   "source": [
    "# 이미지들을 float32 데이터 타입으로 변경\n",
    "x_train, x_test = x_train.astype('float32'), x_test.astype('float32')"
   ]
  },
  {
   "cell_type": "code",
   "execution_count": 14,
   "id": "b70f4b04",
   "metadata": {},
   "outputs": [],
   "source": [
    "# 28*28 형태의 이미지를 784차원으로 flattening\n",
    "# 2-dim을 1-dim으로 만들어주는 것. \n",
    "x_train, x_test = x_train.reshape([-1,784]), x_test.reshape([-1,784]) # -1은 magic number로 data의 개수를 자동으로 할당함. \n",
    "                                                                      # 60000개와 10000개로 자동으로 맞추어줌"
   ]
  },
  {
   "cell_type": "code",
   "execution_count": 15,
   "id": "f3bfc470",
   "metadata": {},
   "outputs": [],
   "source": [
    "# [0, 255] 사이의 값을 [0,1] 사이의 값으로 Normalize\n",
    "x_train, x_test = x_train / 255., x_test / 255."
   ]
  },
  {
   "cell_type": "code",
   "execution_count": 16,
   "id": "c65a937d",
   "metadata": {},
   "outputs": [],
   "source": [
    "# 레이블 데이터에 one-hot encoding\n",
    "y_train, y_test = tf.one_hot(y_train, depth=10), tf.one_hot(y_test, depth=10)"
   ]
  },
  {
   "cell_type": "code",
   "execution_count": 17,
   "id": "7f14f0a8",
   "metadata": {},
   "outputs": [],
   "source": [
    "# tf.data API를 이용해서 데이터를 섞고 batch 형태로 가져옴\n",
    "train_data = tf.data.Dataset.from_tensor_slices((x_train, y_train)) # tf.data.Dataset는 데이터를 미니배치로 묶기 쉽도록\n",
    "                                                                    # 추상화해 놓은 클래스\n",
    "train_data = train_data.repeat().shuffle(60000).batch(100) # batch 100개씩 묶겠다.\n",
    "train_data_iter = iter(train_data) # 추후 next 함수와 상호작용"
   ]
  },
  {
   "cell_type": "code",
   "execution_count": 18,
   "id": "a69a79c6",
   "metadata": {},
   "outputs": [],
   "source": [
    "# tf.keras,Model을 이용해서 Softmax Regression 모델 정의\n",
    "\n",
    "# tf.keras.Model을 상속받는 class 생성\n",
    "class SoftmaxRegression(tf.keras.Model):\n",
    "    def __init__(self):\n",
    "        super(SoftmaxRegression, self).__init__() # 케라스 모델의 기본적인 생성자 부분을 재호출\n",
    "        # 모델 building\n",
    "        # https://www.tensorflow.org/api_docs/python/tf/keras/layers/Dens\n",
    "        self.softmax_layer = tf.keras.layers.Dense(10, # 넘기고자 하는 output dimension.\n",
    "                                                  activation=None,\n",
    "                                                  kernel_initializer='zeros', # W와 b의 초기값을 0으로 지정.\n",
    "                                                  bias_initializer='zeros')\n",
    "    def call(self, x):\n",
    "        logits = self.softmax_layer(x)\n",
    "        \n",
    "        return tf.nn.softmax(logits)"
   ]
  },
  {
   "cell_type": "code",
   "execution_count": 19,
   "id": "e6c50a29",
   "metadata": {},
   "outputs": [],
   "source": [
    "# cross-entropy 손실함수 정의\n",
    "def cross_entropy_loss(y_pred, y):\n",
    "    return tf.reduce_mean(-tf.reduce_sum(y*tf.math.log(y_pred), axis=[1])) # 손실함수 직접 정의\n",
    "    #return tf.reduce_mean(tf.nn.softmax_cross_entropy_with_logits(logits=logtis, labels=y)) # 이미 정의돼 있는 함수. \n",
    "                                                                                        # 이 경우, call함수의 반환값이 \n",
    "                                                                                        #softmax함수가 씌워진 값이아닌\n",
    "                                                                                        #raw logit값이어야 한다.\n",
    "    # tf.nn.softmax_cross_entropy_with_logits API를 이용한 구현"
   ]
  },
  {
   "cell_type": "code",
   "execution_count": 20,
   "id": "98b061e4",
   "metadata": {},
   "outputs": [],
   "source": [
    "# 최적화를 위한 그라디언트 디센트 optimizer 정의\n",
    "optimizer = tf.optimizers.SGD(0.5)"
   ]
  },
  {
   "cell_type": "code",
   "execution_count": 21,
   "id": "2c9c5963",
   "metadata": {},
   "outputs": [],
   "source": [
    "# 최적화 함수\n",
    "def train_step(model, x,y):\n",
    "    with tf.GradientTape() as tape:\n",
    "        y_pred = model(x)\n",
    "        loss = cross_entropy_loss(y_pred, y)\n",
    "    gradients = tape.gradient(loss, model.trainable_variables) # trainable_variables를 사용할 경우, \n",
    "                                                                # 이전에 만든 모델의 모든 구조를 반환해줌\n",
    "    optimizer.apply_gradients(zip(gradients, model.trainable_variables))"
   ]
  },
  {
   "cell_type": "code",
   "execution_count": 22,
   "id": "0b1a265b",
   "metadata": {},
   "outputs": [],
   "source": [
    "# 모델의 정확도 출력 함수\n",
    "def compute_accuracy(y_pred, y):\n",
    "    correct_prediction = tf.equal(tf.argmax(y_pred, 1), tf.argmax(y,1)) # argmax를 사용해서 가장 큰 값을 prediction 값으로 확정해주는 것.\n",
    "    accuracy = tf.reduce_mean(tf.cast(correct_prediction, tf.float32))\n",
    "    \n",
    "    return accuracy"
   ]
  },
  {
   "cell_type": "code",
   "execution_count": 23,
   "id": "e7434501",
   "metadata": {},
   "outputs": [],
   "source": [
    "# SoftmazRegression 모델 선언\n",
    "SoftmaxRegression_model = SoftmaxRegression()"
   ]
  },
  {
   "cell_type": "code",
   "execution_count": 24,
   "id": "eeab2a2a",
   "metadata": {},
   "outputs": [],
   "source": [
    "# 1000번 반복으로 최적화\n",
    "for i in range(1000):\n",
    "    batch_xs, batch_ys = next(train_data_iter)\n",
    "    train_step(SoftmaxRegression_model, batch_xs, batch_ys)"
   ]
  },
  {
   "cell_type": "code",
   "execution_count": 25,
   "id": "63fd40cf",
   "metadata": {
    "scrolled": true
   },
   "outputs": [
    {
     "name": "stdout",
     "output_type": "stream",
     "text": [
      "정확도(Accuracy): 0.918900 \n"
     ]
    }
   ],
   "source": [
    "# 정확도 출력\n",
    "print(\"정확도(Accuracy): %f \" % compute_accuracy(SoftmaxRegression_model(x_test), y_test))"
   ]
  },
  {
   "cell_type": "markdown",
   "id": "9d735e8c",
   "metadata": {},
   "source": [
    "## ANN"
   ]
  },
  {
   "cell_type": "code",
   "execution_count": 26,
   "id": "de0d3070",
   "metadata": {},
   "outputs": [],
   "source": [
    "import tensorflow as tf\n",
    "\n",
    "# MNIST 데이터를 다운로드 합니다.\n",
    "(x_train, y_train), (x_test, y_test) = tf.keras.datasets.mnist.load_data()\n",
    "# 이미지들을 float32 데이터 타입으로 변경합니다.\n",
    "x_train, x_test = x_train.astype('float32'), x_test.astype('float32')\n",
    "# 28*28 형태의 이미지를 784차원으로 flattening 합니다.\n",
    "x_train, x_test = x_train.reshape([-1, 784]), x_test.reshape([-1, 784])\n",
    "# [0, 255] 사이의 값을 [0, 1]사이의 값으로 Normalize합니다.\n",
    "x_train, x_test = x_train / 255., x_test / 255.\n",
    "# 레이블 데이터에 one-hot encoding을 적용합니다.\n",
    "y_train, y_test = tf.one_hot(y_train, depth=10), tf.one_hot(y_test, depth=10)"
   ]
  },
  {
   "cell_type": "code",
   "execution_count": 27,
   "id": "f6031575",
   "metadata": {},
   "outputs": [],
   "source": [
    "# 학습을 위해 설정값 정의\n",
    "learning_rate = 0.001\n",
    "num_epochs = 30 # 학습횟수\n",
    "batch_size = 256 # 배치개수\n",
    "display_step = 1 # 손실함수 출력 주기\n",
    "input_size = 784\n",
    "hidden1_size = 256\n",
    "hidden2_size = 256\n",
    "output_size = 10"
   ]
  },
  {
   "cell_type": "code",
   "execution_count": 28,
   "id": "aea48e34",
   "metadata": {},
   "outputs": [],
   "source": [
    "# tf.data API를 이용해서 데이터를 섞고 batch 형태로 가져옴\n",
    "train_data = tf.data.Dataset.from_tensor_slices((x_train, y_train))\n",
    "train_data = train_data.shuffle(60000).batch(batch_size)"
   ]
  },
  {
   "cell_type": "code",
   "execution_count": 29,
   "id": "450951b2",
   "metadata": {},
   "outputs": [],
   "source": [
    "def random_normal_intializer_with_stddev_1():\n",
    "    return tf.keras.initializers.RandomNormal(mean=0.0, stddev=1.0, seed=None)"
   ]
  },
  {
   "cell_type": "code",
   "execution_count": 30,
   "id": "fa71fa97",
   "metadata": {},
   "outputs": [],
   "source": [
    "# tf.keras.Model을 이용해서 ANN모델을 정의\n",
    "class ANN(tf.keras.Model):\n",
    "    def __init__(self):\n",
    "        super(ANN, self).__init__()\n",
    "        self.hidden_layer_1 = tf.keras.layers.Dense(hidden1_size,\n",
    "                                                   activation='relu',\n",
    "                                                   kernel_initializer=random_normal_intializer_with_stddev_1(),\n",
    "                                                   bias_initializer=random_normal_intializer_with_stddev_1())\n",
    "        self.hidden_layer_2 = tf.keras.layers.Dense(hidden2_size,\n",
    "                                                   activation='relu',\n",
    "                                                   kernel_initializer=random_normal_intializer_with_stddev_1(),\n",
    "                                                   bias_initializer=random_normal_intializer_with_stddev_1())\n",
    "        self.output_layer = tf.keras.layers.Dense(output_size,\n",
    "                                                   activation=None,\n",
    "                                                   kernel_initializer=random_normal_intializer_with_stddev_1(),\n",
    "                                                   bias_initializer=random_normal_intializer_with_stddev_1())\n",
    "        \n",
    "    def call(self, x):\n",
    "        H1_output = self.hidden_layer_1(x)\n",
    "        H2_output = self.hidden_layer_2(H1_output)\n",
    "        logits = self.output_layer(H2_output)\n",
    "\n",
    "        return logits"
   ]
  },
  {
   "cell_type": "code",
   "execution_count": 31,
   "id": "c44b47b9",
   "metadata": {},
   "outputs": [],
   "source": [
    "# cross-entropy 손실함수 정의\n",
    "def cross_entropy_loss(logits, y):\n",
    "    return tf.reduce_mean(tf.nn.softmax_cross_entropy_with_logits(logits=logits, labels=y))"
   ]
  },
  {
   "cell_type": "code",
   "execution_count": 32,
   "id": "e2821d81",
   "metadata": {},
   "outputs": [],
   "source": [
    "# 최적화를 위한 Adam optimizer\n",
    "optimizer = tf.optimizers.Adam(learning_rate)"
   ]
  },
  {
   "cell_type": "code",
   "execution_count": 33,
   "id": "f17082a7",
   "metadata": {},
   "outputs": [],
   "source": [
    "# 최적화 함수\n",
    "def train_step(model, x,y):\n",
    "    with tf.GradientTape() as tape:\n",
    "        y_pred = model(x)\n",
    "        loss = cross_entropy_loss(y_pred, y)\n",
    "    gradients = tape.gradient(loss, model.trainable_variables) # trainable_variables를 사용할 경우, \n",
    "                                                                # 이전에 만든 모델의 모든 구조를 반환해줌\n",
    "    optimizer.apply_gradients(zip(gradients, model.trainable_variables))"
   ]
  },
  {
   "cell_type": "code",
   "execution_count": 34,
   "id": "68bcefe9",
   "metadata": {},
   "outputs": [],
   "source": [
    "# 모델의 정확도 출력 함수\n",
    "def compute_accuracy(y_pred, y):\n",
    "    correct_prediction = tf.equal(tf.argmax(y_pred, 1), tf.argmax(y,1)) # argmax를 사용해서 가장 큰 값을 prediction 값으로 확정해주는 것.\n",
    "    accuracy = tf.reduce_mean(tf.cast(correct_prediction, tf.float32))\n",
    "    \n",
    "    return accuracy"
   ]
  },
  {
   "cell_type": "code",
   "execution_count": 35,
   "id": "e51d9f73",
   "metadata": {},
   "outputs": [],
   "source": [
    "# ANN 모델 선언\n",
    "ANN_model = ANN()"
   ]
  },
  {
   "cell_type": "code",
   "execution_count": 36,
   "id": "599c8917",
   "metadata": {},
   "outputs": [
    {
     "name": "stdout",
     "output_type": "stream",
     "text": [
      "반복(Epoch): 1, 손실 함수(Loss): 277.867828\n",
      "반복(Epoch): 2, 손실 함수(Loss): 61.296265\n",
      "반복(Epoch): 3, 손실 함수(Loss): 39.818485\n",
      "반복(Epoch): 4, 손실 함수(Loss): 29.075478\n",
      "반복(Epoch): 5, 손실 함수(Loss): 22.508543\n",
      "반복(Epoch): 6, 손실 함수(Loss): 17.982603\n",
      "반복(Epoch): 7, 손실 함수(Loss): 14.631808\n",
      "반복(Epoch): 8, 손실 함수(Loss): 11.954827\n",
      "반복(Epoch): 9, 손실 함수(Loss): 9.843960\n",
      "반복(Epoch): 10, 손실 함수(Loss): 8.167468\n",
      "반복(Epoch): 11, 손실 함수(Loss): 6.681476\n",
      "반복(Epoch): 12, 손실 함수(Loss): 5.526685\n",
      "반복(Epoch): 13, 손실 함수(Loss): 4.613533\n",
      "반복(Epoch): 14, 손실 함수(Loss): 3.700699\n",
      "반복(Epoch): 15, 손실 함수(Loss): 2.985919\n",
      "반복(Epoch): 16, 손실 함수(Loss): 2.459886\n",
      "반복(Epoch): 17, 손실 함수(Loss): 1.964166\n",
      "반복(Epoch): 18, 손실 함수(Loss): 1.614003\n",
      "반복(Epoch): 19, 손실 함수(Loss): 1.309060\n",
      "반복(Epoch): 20, 손실 함수(Loss): 1.076161\n",
      "반복(Epoch): 21, 손실 함수(Loss): 0.762862\n",
      "반복(Epoch): 22, 손실 함수(Loss): 0.576540\n",
      "반복(Epoch): 23, 손실 함수(Loss): 0.464878\n",
      "반복(Epoch): 24, 손실 함수(Loss): 0.387580\n",
      "반복(Epoch): 25, 손실 함수(Loss): 0.279718\n",
      "반복(Epoch): 26, 손실 함수(Loss): 0.215415\n",
      "반복(Epoch): 27, 손실 함수(Loss): 0.189472\n",
      "반복(Epoch): 28, 손실 함수(Loss): 0.140393\n",
      "반복(Epoch): 29, 손실 함수(Loss): 0.107103\n",
      "반복(Epoch): 30, 손실 함수(Loss): 0.091050\n",
      "정확도(Accuracy): 0.943800 \n"
     ]
    }
   ],
   "source": [
    "# 지정된 횟수만큼 최적화 수행\n",
    "for epoch in range(num_epochs):\n",
    "    average_loss = 0.\n",
    "    total_batch = int(x_train.shape[0] / batch_size)\n",
    "    \n",
    "    # 모든 batch에 대해 최적화 수행\n",
    "    for batch_x, batch_y in train_data:\n",
    "        #옵티마이저를 실행해서 파라미터 업데이트\n",
    "        _, current_loss = train_step(ANN_model, batch_x, batch_y), cross_entropy_loss(ANN_model(batch_x), batch_y)\n",
    "        \n",
    "        # 평균 손실을 측정\n",
    "        average_loss += current_loss / total_batch\n",
    "        \n",
    "    # 지정된 epoch마다 학습 결과 출력\n",
    "    if epoch % display_step == 0:\n",
    "        print(\"반복(Epoch): %d, 손실 함수(Loss): %f\" % ((epoch +1), average_loss))\n",
    "\n",
    "#정확도 출력\n",
    "print(\"정확도(Accuracy): %f \" % compute_accuracy(ANN_model(x_test), y_test))"
   ]
  },
  {
   "cell_type": "markdown",
   "id": "edd9da89",
   "metadata": {},
   "source": [
    "## AutoEncoder"
   ]
  },
  {
   "cell_type": "code",
   "execution_count": 37,
   "id": "e0b3875c",
   "metadata": {},
   "outputs": [],
   "source": [
    "import tensorflow as tf\n",
    "import numpy as np\n",
    "import matplotlib.pyplot as plt"
   ]
  },
  {
   "cell_type": "code",
   "execution_count": 38,
   "id": "f6c285e1",
   "metadata": {},
   "outputs": [],
   "source": [
    "# MNIST 데이터를 다운로드 합니다.\n",
    "(x_train, y_train), (x_test, y_test) = tf.keras.datasets.mnist.load_data()\n",
    "# 이미지들을 float32 데이터 타입으로 변경합니다.\n",
    "x_train, x_test = x_train.astype('float32'), x_test.astype('float32')\n",
    "# 28*28 형태의 이미지를 784차원으로 flattening 합니다.\n",
    "x_train, x_test = x_train.reshape([-1, 784]), x_test.reshape([-1, 784])\n",
    "# [0, 255] 사이의 값을 [0, 1]사이의 값으로 Normalize합니다.\n",
    "x_train, x_test = x_train / 255., x_test / 255."
   ]
  },
  {
   "cell_type": "code",
   "execution_count": 39,
   "id": "6c96bb21",
   "metadata": {},
   "outputs": [],
   "source": [
    "# 학습에 필요한 설정값 저장\n",
    "# 학습을 위해 설정값 정의\n",
    "learning_rate = 0.02\n",
    "training_epochs = 50 # 학습횟수\n",
    "batch_size = 256 # 배치개수\n",
    "display_step = 1 # 손실함수 출력 주기\n",
    "example_to_show = 10 # 보여줄 MNIST Reconstruction 이미지 개수\n",
    "input_size = 784\n",
    "hidden1_size = 256\n",
    "hidden2_size = 128"
   ]
  },
  {
   "cell_type": "code",
   "execution_count": 40,
   "id": "9fd272af",
   "metadata": {},
   "outputs": [],
   "source": [
    "# tf.data API를 이용해서 데이터를 섞고 batch 형태로 가져옴\n",
    "train_data = tf.data.Dataset.from_tensor_slices(x_train) # unsupervised learning이기 때문에 y_train이 필요 없음!\n",
    "train_data = train_data.shuffle(60000).batch(batch_size)"
   ]
  },
  {
   "cell_type": "code",
   "execution_count": 41,
   "id": "066e0782",
   "metadata": {},
   "outputs": [],
   "source": [
    "def random_normal_intializer_with_stddev_1():\n",
    "    return tf.keras.initializers.RandomNormal(mean=0.0, stddev=1.0, seed=None)"
   ]
  },
  {
   "cell_type": "code",
   "execution_count": 42,
   "id": "fd1ab607",
   "metadata": {},
   "outputs": [],
   "source": [
    "# tf.keras.Model 을 이용해서 Autoencoder모델 정의\n",
    "class AutoEncoder(tf.keras.Model):\n",
    "    def __init__(self):\n",
    "        super(AutoEncoder, self).__init__()\n",
    "        # 인코딩 - 784 --> 256 --> 128\n",
    "        self.hidden_layer_1 = tf.keras.layers.Dense(hidden1_size,\n",
    "                                                   activation='sigmoid',\n",
    "                                                   kernel_initializer=random_normal_intializer_with_stddev_1(),\n",
    "                                                   bias_initializer=random_normal_intializer_with_stddev_1())\n",
    "        self.hidden_layer_2 = tf.keras.layers.Dense(hidden2_size,\n",
    "                                                   activation='sigmoid',\n",
    "                                                   kernel_initializer=random_normal_intializer_with_stddev_1(),\n",
    "                                                   bias_initializer=random_normal_intializer_with_stddev_1())\n",
    "        # 디코딩 128 --> 256 --> 784\n",
    "        self.hidden_layer_3 = tf.keras.layers.Dense(hidden1_size,\n",
    "                                                   activation='sigmoid',\n",
    "                                                   kernel_initializer=random_normal_intializer_with_stddev_1(),\n",
    "                                                   bias_initializer=random_normal_intializer_with_stddev_1())\n",
    "        self.output_layer = tf.keras.layers.Dense(input_size,\n",
    "                                                   activation='sigmoid',\n",
    "                                                   kernel_initializer=random_normal_intializer_with_stddev_1(),\n",
    "                                                   bias_initializer=random_normal_intializer_with_stddev_1())\n",
    "    def call(self, x):\n",
    "        H1_output = self.hidden_layer_1(x)\n",
    "        H2_output = self.hidden_layer_2(H1_output)\n",
    "        H3_output = self.hidden_layer_3(H2_output)\n",
    "        reconstructed_x = self.output_layer(H3_output)\n",
    "\n",
    "        return reconstructed_x\n",
    "        "
   ]
  },
  {
   "cell_type": "code",
   "execution_count": 43,
   "id": "faf60343",
   "metadata": {},
   "outputs": [],
   "source": [
    "# MSE 손실함수 정의\n",
    "def mse_loss(y_pred, y_true):\n",
    "    return tf.reduce_mean(tf.pow(y_true - y_pred, 2))"
   ]
  },
  {
   "cell_type": "code",
   "execution_count": 44,
   "id": "10590a93",
   "metadata": {},
   "outputs": [],
   "source": [
    "# optimizer 정의\n",
    "optimizer = tf.optimizers.RMSprop(learning_rate)"
   ]
  },
  {
   "cell_type": "code",
   "execution_count": 45,
   "id": "531b4745",
   "metadata": {},
   "outputs": [],
   "source": [
    "# 최적화\n",
    "def train_step(model, x):\n",
    "    with tf.GradientTape() as tape:\n",
    "        y_true = x\n",
    "        y_pred = model(x)\n",
    "        loss = mse_loss(y_pred, y_true)\n",
    "    gradients = tape.gradient(loss, model.trainable_variables) # trainable_variables를 사용할 경우, \n",
    "                                                                # 이전에 만든 모델의 모든 구조를 반환해줌\n",
    "    optimizer.apply_gradients(zip(gradients, model.trainable_variables))"
   ]
  },
  {
   "cell_type": "code",
   "execution_count": 46,
   "id": "7e2d6347",
   "metadata": {},
   "outputs": [],
   "source": [
    "# 모델 선언\n",
    "AutoEncoder_model = AutoEncoder()"
   ]
  },
  {
   "cell_type": "code",
   "execution_count": 47,
   "id": "0f3b9161",
   "metadata": {
    "scrolled": true
   },
   "outputs": [
    {
     "name": "stdout",
     "output_type": "stream",
     "text": [
      "반복(Epoch): 1, 손실함수(Loss): 0.187886\n",
      "반복(Epoch): 2, 손실함수(Loss): 0.182231\n",
      "반복(Epoch): 3, 손실함수(Loss): 0.178720\n",
      "반복(Epoch): 4, 손실함수(Loss): 0.179544\n",
      "반복(Epoch): 5, 손실함수(Loss): 0.174285\n",
      "반복(Epoch): 6, 손실함수(Loss): 0.169742\n",
      "반복(Epoch): 7, 손실함수(Loss): 0.168718\n",
      "반복(Epoch): 8, 손실함수(Loss): 0.168720\n",
      "반복(Epoch): 9, 손실함수(Loss): 0.163348\n",
      "반복(Epoch): 10, 손실함수(Loss): 0.158542\n",
      "반복(Epoch): 11, 손실함수(Loss): 0.157211\n",
      "반복(Epoch): 12, 손실함수(Loss): 0.159805\n",
      "반복(Epoch): 13, 손실함수(Loss): 0.152371\n",
      "반복(Epoch): 14, 손실함수(Loss): 0.153542\n",
      "반복(Epoch): 15, 손실함수(Loss): 0.152338\n",
      "반복(Epoch): 16, 손실함수(Loss): 0.150553\n",
      "반복(Epoch): 17, 손실함수(Loss): 0.146694\n",
      "반복(Epoch): 18, 손실함수(Loss): 0.146913\n",
      "반복(Epoch): 19, 손실함수(Loss): 0.144389\n",
      "반복(Epoch): 20, 손실함수(Loss): 0.140764\n",
      "반복(Epoch): 21, 손실함수(Loss): 0.140541\n",
      "반복(Epoch): 22, 손실함수(Loss): 0.138056\n",
      "반복(Epoch): 23, 손실함수(Loss): 0.139517\n",
      "반복(Epoch): 24, 손실함수(Loss): 0.136527\n",
      "반복(Epoch): 25, 손실함수(Loss): 0.135074\n",
      "반복(Epoch): 26, 손실함수(Loss): 0.136485\n",
      "반복(Epoch): 27, 손실함수(Loss): 0.128877\n",
      "반복(Epoch): 28, 손실함수(Loss): 0.132487\n",
      "반복(Epoch): 29, 손실함수(Loss): 0.128919\n",
      "반복(Epoch): 30, 손실함수(Loss): 0.127723\n",
      "반복(Epoch): 31, 손실함수(Loss): 0.125405\n",
      "반복(Epoch): 32, 손실함수(Loss): 0.125163\n",
      "반복(Epoch): 33, 손실함수(Loss): 0.127285\n",
      "반복(Epoch): 34, 손실함수(Loss): 0.124977\n",
      "반복(Epoch): 35, 손실함수(Loss): 0.126413\n",
      "반복(Epoch): 36, 손실함수(Loss): 0.124066\n",
      "반복(Epoch): 37, 손실함수(Loss): 0.123599\n",
      "반복(Epoch): 38, 손실함수(Loss): 0.123218\n",
      "반복(Epoch): 39, 손실함수(Loss): 0.122458\n",
      "반복(Epoch): 40, 손실함수(Loss): 0.123107\n",
      "반복(Epoch): 41, 손실함수(Loss): 0.122695\n",
      "반복(Epoch): 42, 손실함수(Loss): 0.123480\n",
      "반복(Epoch): 43, 손실함수(Loss): 0.120127\n",
      "반복(Epoch): 44, 손실함수(Loss): 0.119007\n",
      "반복(Epoch): 45, 손실함수(Loss): 0.121934\n",
      "반복(Epoch): 46, 손실함수(Loss): 0.119002\n",
      "반복(Epoch): 47, 손실함수(Loss): 0.118294\n",
      "반복(Epoch): 48, 손실함수(Loss): 0.118689\n",
      "반복(Epoch): 49, 손실함수(Loss): 0.119842\n",
      "반복(Epoch): 50, 손실함수(Loss): 0.119800\n"
     ]
    }
   ],
   "source": [
    "for epoch in range(training_epochs):\n",
    "    for batch_x in train_data:\n",
    "        _, current_loss = train_step(AutoEncoder_model, batch_x), mse_loss(AutoEncoder_model(batch_x), batch_x)\n",
    "    \n",
    "    if epoch  % display_step == 0:\n",
    "        print(\"반복(Epoch): %d, 손실함수(Loss): %f\" % ((epoch + 1), current_loss))"
   ]
  },
  {
   "cell_type": "code",
   "execution_count": 53,
   "id": "31c481a0",
   "metadata": {
    "scrolled": true
   },
   "outputs": [
    {
     "name": "stderr",
     "output_type": "stream",
     "text": [
      "C:\\Users\\Public\\Documents\\ESTsoft\\CreatorTemp\\ipykernel_968\\2465294082.py:9: UserWarning: Matplotlib is currently using module://matplotlib_inline.backend_inline, which is a non-GUI backend, so cannot show the figure.\n",
      "  f.show()\n"
     ]
    },
    {
     "data": {
      "image/png": "[encoded data removed]",
      "text/plain": [
       "<Figure size 1000x200 with 20 Axes>"
      ]
     },
     "metadata": {},
     "output_type": "display_data"
    }
   ],
   "source": [
    "# 테스트 데이터로 Reconstruction을 수행합니다.\n",
    "reconstructed_result = AutoEncoder_model(x_test[:example_to_show])\n",
    "# 원본 MNIST 데이터와 Reconstruction 결과를 비교합니다.\n",
    "f, a = plt.subplots(2, 10, figsize=(10, 2))\n",
    "for i in range(example_to_show):\n",
    "  a[0][i].imshow(np.reshape(x_test[i], (28, 28)))\n",
    "  a[1][i].imshow(np.reshape(reconstructed_result[i], (28, 28)))\n",
    "f.savefig('reconstructed_mnist_image.png')  # reconstruction 결과를 png로 저장합니다.\n",
    "f.show()"
   ]
  }
 ],
 "metadata": {
  "kernelspec": {
   "display_name": "Python 3 (ipykernel)",
   "language": "python",
   "name": "python3"
  },
  "language_info": {
   "codemirror_mode": {
    "name": "ipython",
    "version": 3
   },
   "file_extension": ".py",
   "mimetype": "text/x-python",
   "name": "python",
   "nbconvert_exporter": "python",
   "pygments_lexer": "ipython3",
   "version": "3.10.9"
  }
 },
 "nbformat": 4,
 "nbformat_minor": 5
}
